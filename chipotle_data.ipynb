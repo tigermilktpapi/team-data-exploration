{
 "cells": [
  {
   "cell_type": "code",
   "execution_count": 81,
   "id": "fd5e059d",
   "metadata": {},
   "outputs": [
    {
     "data": {
      "text/html": [
       "<div>\n",
       "<style scoped>\n",
       "    .dataframe tbody tr th:only-of-type {\n",
       "        vertical-align: middle;\n",
       "    }\n",
       "\n",
       "    .dataframe tbody tr th {\n",
       "        vertical-align: top;\n",
       "    }\n",
       "\n",
       "    .dataframe thead th {\n",
       "        text-align: right;\n",
       "    }\n",
       "</style>\n",
       "<table border=\"1\" class=\"dataframe\">\n",
       "  <thead>\n",
       "    <tr style=\"text-align: right;\">\n",
       "      <th></th>\n",
       "      <th>order_id</th>\n",
       "      <th>quantity</th>\n",
       "      <th>item_name</th>\n",
       "      <th>choice_description</th>\n",
       "      <th>item_price</th>\n",
       "    </tr>\n",
       "  </thead>\n",
       "  <tbody>\n",
       "    <tr>\n",
       "      <th>0</th>\n",
       "      <td>1</td>\n",
       "      <td>1</td>\n",
       "      <td>Chips and Fresh Tomato Salsa</td>\n",
       "      <td>NaN</td>\n",
       "      <td>2.39</td>\n",
       "    </tr>\n",
       "    <tr>\n",
       "      <th>1</th>\n",
       "      <td>1</td>\n",
       "      <td>1</td>\n",
       "      <td>Izze</td>\n",
       "      <td>[Clementine]</td>\n",
       "      <td>3.39</td>\n",
       "    </tr>\n",
       "    <tr>\n",
       "      <th>2</th>\n",
       "      <td>1</td>\n",
       "      <td>1</td>\n",
       "      <td>Nantucket Nectar</td>\n",
       "      <td>[Apple]</td>\n",
       "      <td>3.39</td>\n",
       "    </tr>\n",
       "    <tr>\n",
       "      <th>3</th>\n",
       "      <td>1</td>\n",
       "      <td>1</td>\n",
       "      <td>Chips and Tomatillo-Green Chili Salsa</td>\n",
       "      <td>NaN</td>\n",
       "      <td>2.39</td>\n",
       "    </tr>\n",
       "    <tr>\n",
       "      <th>4</th>\n",
       "      <td>2</td>\n",
       "      <td>2</td>\n",
       "      <td>Chicken Bowl</td>\n",
       "      <td>[Tomatillo-Red Chili Salsa (Hot), [Black Beans...</td>\n",
       "      <td>16.98</td>\n",
       "    </tr>\n",
       "  </tbody>\n",
       "</table>\n",
       "</div>"
      ],
      "text/plain": [
       "   order_id  quantity                              item_name  \\\n",
       "0         1         1           Chips and Fresh Tomato Salsa   \n",
       "1         1         1                                   Izze   \n",
       "2         1         1                       Nantucket Nectar   \n",
       "3         1         1  Chips and Tomatillo-Green Chili Salsa   \n",
       "4         2         2                           Chicken Bowl   \n",
       "\n",
       "                                  choice_description  item_price  \n",
       "0                                                NaN        2.39  \n",
       "1                                       [Clementine]        3.39  \n",
       "2                                            [Apple]        3.39  \n",
       "3                                                NaN        2.39  \n",
       "4  [Tomatillo-Red Chili Salsa (Hot), [Black Beans...       16.98  "
      ]
     },
     "execution_count": 81,
     "metadata": {},
     "output_type": "execute_result"
    }
   ],
   "source": [
    "import pandas\n",
    "import seaborn\n",
    "import matplotlib.pyplot as plt\n",
    "\n",
    "url = 'https://raw.githubusercontent.com/justmarkham/DAT8/master/data/chipotle.tsv'\n",
    "\n",
    "chipotle_data = pandas.read_csv(url, sep = '\\t')\n",
    "\n",
    "chipotle_data[\"item_price\"] = chipotle_data[\"item_price\"].str.replace(\"$\", \"\", regex = True).astype(float)\n",
    "\n",
    "chipotle_data.head()\n"
   ]
  },
  {
   "cell_type": "code",
   "execution_count": 3,
   "id": "cac6008d",
   "metadata": {},
   "outputs": [
    {
     "data": {
      "text/html": [
       "<div>\n",
       "<style scoped>\n",
       "    .dataframe tbody tr th:only-of-type {\n",
       "        vertical-align: middle;\n",
       "    }\n",
       "\n",
       "    .dataframe tbody tr th {\n",
       "        vertical-align: top;\n",
       "    }\n",
       "\n",
       "    .dataframe thead th {\n",
       "        text-align: right;\n",
       "    }\n",
       "</style>\n",
       "<table border=\"1\" class=\"dataframe\">\n",
       "  <thead>\n",
       "    <tr style=\"text-align: right;\">\n",
       "      <th></th>\n",
       "      <th>order_id</th>\n",
       "      <th>quantity</th>\n",
       "    </tr>\n",
       "  </thead>\n",
       "  <tbody>\n",
       "    <tr>\n",
       "      <th>count</th>\n",
       "      <td>4622.000000</td>\n",
       "      <td>4622.000000</td>\n",
       "    </tr>\n",
       "    <tr>\n",
       "      <th>mean</th>\n",
       "      <td>927.254868</td>\n",
       "      <td>1.075725</td>\n",
       "    </tr>\n",
       "    <tr>\n",
       "      <th>std</th>\n",
       "      <td>528.890796</td>\n",
       "      <td>0.410186</td>\n",
       "    </tr>\n",
       "    <tr>\n",
       "      <th>min</th>\n",
       "      <td>1.000000</td>\n",
       "      <td>1.000000</td>\n",
       "    </tr>\n",
       "    <tr>\n",
       "      <th>25%</th>\n",
       "      <td>477.250000</td>\n",
       "      <td>1.000000</td>\n",
       "    </tr>\n",
       "    <tr>\n",
       "      <th>50%</th>\n",
       "      <td>926.000000</td>\n",
       "      <td>1.000000</td>\n",
       "    </tr>\n",
       "    <tr>\n",
       "      <th>75%</th>\n",
       "      <td>1393.000000</td>\n",
       "      <td>1.000000</td>\n",
       "    </tr>\n",
       "    <tr>\n",
       "      <th>max</th>\n",
       "      <td>1834.000000</td>\n",
       "      <td>15.000000</td>\n",
       "    </tr>\n",
       "  </tbody>\n",
       "</table>\n",
       "</div>"
      ],
      "text/plain": [
       "          order_id     quantity\n",
       "count  4622.000000  4622.000000\n",
       "mean    927.254868     1.075725\n",
       "std     528.890796     0.410186\n",
       "min       1.000000     1.000000\n",
       "25%     477.250000     1.000000\n",
       "50%     926.000000     1.000000\n",
       "75%    1393.000000     1.000000\n",
       "max    1834.000000    15.000000"
      ]
     },
     "execution_count": 3,
     "metadata": {},
     "output_type": "execute_result"
    }
   ],
   "source": [
    "#Q1: \n",
    "chipotle_data.describe()"
   ]
  },
  {
   "cell_type": "code",
   "execution_count": 7,
   "id": "bb78208c",
   "metadata": {},
   "outputs": [
    {
     "data": {
      "text/plain": [
       "['order_id', 'quantity', 'item_name', 'choice_description', 'item_price']"
      ]
     },
     "execution_count": 7,
     "metadata": {},
     "output_type": "execute_result"
    }
   ],
   "source": [
    "#Q2: \n",
    "list(chipotle_data.columns)"
   ]
  },
  {
   "cell_type": "code",
   "execution_count": 63,
   "id": "2a0821e6",
   "metadata": {},
   "outputs": [
    {
     "name": "stdout",
     "output_type": "stream",
     "text": [
      "Chicken Bowls Order Count: 726\n"
     ]
    }
   ],
   "source": [
    "#Q3:\n",
    "count_order_dict={}\n",
    "\n",
    "for item in list(chipotle_data[\"item_name\"].unique()):\n",
    "    count_order_dict[item] = len(chipotle_data[chipotle_data[\"item_name\"]== item])\n",
    "\n",
    "sorted_item_names = sorted(count_order_dict, key= count_order_dict.get, reverse=True)\n",
    "#for item_name in sorted_item_names:\n",
    "#    print(item_name + \" Order Count: \" + str(count_order_dict[item_name]))\n",
    "\n",
    "print(sorted_item_names[0] + 's Order Count: ' + str(count_order_dict[sorted_item_names[0]]))\n"
   ]
  },
  {
   "cell_type": "code",
   "execution_count": 68,
   "id": "51f15fb9",
   "metadata": {},
   "outputs": [
    {
     "data": {
      "text/plain": [
       "array(['Chips and Fresh Tomato Salsa', 'Izze', 'Nantucket Nectar',\n",
       "       'Chips and Tomatillo-Green Chili Salsa', 'Chicken Bowl',\n",
       "       'Side of Chips', 'Steak Burrito', 'Steak Soft Tacos',\n",
       "       'Chips and Guacamole', 'Chicken Crispy Tacos',\n",
       "       'Chicken Soft Tacos', 'Chicken Burrito', 'Canned Soda',\n",
       "       'Barbacoa Burrito', 'Carnitas Burrito', 'Carnitas Bowl',\n",
       "       'Bottled Water', 'Chips and Tomatillo Green Chili Salsa',\n",
       "       'Barbacoa Bowl', 'Chips', 'Chicken Salad Bowl', 'Steak Bowl',\n",
       "       'Barbacoa Soft Tacos', 'Veggie Burrito', 'Veggie Bowl',\n",
       "       'Steak Crispy Tacos', 'Chips and Tomatillo Red Chili Salsa',\n",
       "       'Barbacoa Crispy Tacos', 'Veggie Salad Bowl',\n",
       "       'Chips and Roasted Chili-Corn Salsa',\n",
       "       'Chips and Roasted Chili Corn Salsa', 'Carnitas Soft Tacos',\n",
       "       'Chicken Salad', 'Canned Soft Drink', 'Steak Salad Bowl',\n",
       "       '6 Pack Soft Drink', 'Chips and Tomatillo-Red Chili Salsa', 'Bowl',\n",
       "       'Burrito', 'Crispy Tacos', 'Carnitas Crispy Tacos', 'Steak Salad',\n",
       "       'Chips and Mild Fresh Tomato Salsa', 'Veggie Soft Tacos',\n",
       "       'Carnitas Salad Bowl', 'Barbacoa Salad Bowl', 'Salad',\n",
       "       'Veggie Crispy Tacos', 'Veggie Salad', 'Carnitas Salad'],\n",
       "      dtype=object)"
      ]
     },
     "execution_count": 68,
     "metadata": {},
     "output_type": "execute_result"
    }
   ],
   "source": [
    "chipotle_data[\"item_name\"].unique()"
   ]
  },
  {
   "cell_type": "code",
   "execution_count": 82,
   "id": "797343fc",
   "metadata": {},
   "outputs": [
    {
     "data": {
      "text/plain": [
       "34500.16"
      ]
     },
     "execution_count": 82,
     "metadata": {},
     "output_type": "execute_result"
    }
   ],
   "source": [
    "#Q4:\n",
    "chipotle_data[\"item_price\"].sum()"
   ]
  },
  {
   "cell_type": "code",
   "execution_count": 83,
   "id": "468986cd",
   "metadata": {},
   "outputs": [
    {
     "data": {
      "text/plain": [
       "4622"
      ]
     },
     "execution_count": 83,
     "metadata": {},
     "output_type": "execute_result"
    }
   ],
   "source": [
    "#Q5:\n",
    "len(chipotle_data)"
   ]
  },
  {
   "cell_type": "code",
   "execution_count": 87,
   "id": "8516a82e",
   "metadata": {},
   "outputs": [
    {
     "data": {
      "text/plain": [
       "1130"
      ]
     },
     "execution_count": 87,
     "metadata": {},
     "output_type": "execute_result"
    }
   ],
   "source": [
    "#Q6:\n",
    "len(chipotle_data[chipotle_data[\"item_price\"] > 10])"
   ]
  },
  {
   "cell_type": "code",
   "execution_count": 88,
   "id": "57e47220",
   "metadata": {},
   "outputs": [
    {
     "data": {
      "text/plain": [
       "['Chips and Fresh Tomato Salsa',\n",
       " 'Izze',\n",
       " 'Nantucket Nectar',\n",
       " 'Chips and Tomatillo-Green Chili Salsa',\n",
       " 'Chicken Bowl',\n",
       " 'Side of Chips',\n",
       " 'Steak Burrito',\n",
       " 'Steak Soft Tacos',\n",
       " 'Chips and Guacamole',\n",
       " 'Chicken Crispy Tacos',\n",
       " 'Chicken Soft Tacos',\n",
       " 'Chicken Burrito',\n",
       " 'Canned Soda',\n",
       " 'Barbacoa Burrito',\n",
       " 'Carnitas Burrito',\n",
       " 'Carnitas Bowl',\n",
       " 'Bottled Water',\n",
       " 'Chips and Tomatillo Green Chili Salsa',\n",
       " 'Barbacoa Bowl',\n",
       " 'Chips',\n",
       " 'Chicken Salad Bowl',\n",
       " 'Steak Bowl',\n",
       " 'Barbacoa Soft Tacos',\n",
       " 'Veggie Burrito',\n",
       " 'Veggie Bowl',\n",
       " 'Steak Crispy Tacos',\n",
       " 'Chips and Tomatillo Red Chili Salsa',\n",
       " 'Barbacoa Crispy Tacos',\n",
       " 'Veggie Salad Bowl',\n",
       " 'Chips and Roasted Chili-Corn Salsa',\n",
       " 'Chips and Roasted Chili Corn Salsa',\n",
       " 'Carnitas Soft Tacos',\n",
       " 'Chicken Salad',\n",
       " 'Canned Soft Drink',\n",
       " 'Steak Salad Bowl',\n",
       " '6 Pack Soft Drink',\n",
       " 'Chips and Tomatillo-Red Chili Salsa',\n",
       " 'Bowl',\n",
       " 'Burrito',\n",
       " 'Crispy Tacos',\n",
       " 'Carnitas Crispy Tacos',\n",
       " 'Steak Salad',\n",
       " 'Chips and Mild Fresh Tomato Salsa',\n",
       " 'Veggie Soft Tacos',\n",
       " 'Carnitas Salad Bowl',\n",
       " 'Barbacoa Salad Bowl',\n",
       " 'Salad',\n",
       " 'Veggie Crispy Tacos',\n",
       " 'Veggie Salad',\n",
       " 'Carnitas Salad']"
      ]
     },
     "execution_count": 88,
     "metadata": {},
     "output_type": "execute_result"
    }
   ],
   "source": [
    "#Q7:\n",
    "list(chipotle_data[\"item_name\"].unique())"
   ]
  },
  {
   "cell_type": "code",
   "execution_count": null,
   "id": "6300a701",
   "metadata": {},
   "outputs": [],
   "source": []
  }
 ],
 "metadata": {
  "kernelspec": {
   "display_name": "Python 3 (ipykernel)",
   "language": "python",
   "name": "python3"
  },
  "language_info": {
   "codemirror_mode": {
    "name": "ipython",
    "version": 3
   },
   "file_extension": ".py",
   "mimetype": "text/x-python",
   "name": "python",
   "nbconvert_exporter": "python",
   "pygments_lexer": "ipython3",
   "version": "3.9.7"
  }
 },
 "nbformat": 4,
 "nbformat_minor": 5
}
